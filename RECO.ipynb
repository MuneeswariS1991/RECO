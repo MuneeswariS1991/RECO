{
 "cells": [
  {
   "cell_type": "code",
   "execution_count": 3,
   "metadata": {},
   "outputs": [],
   "source": [
    "import numpy\n",
    "from numpy import sqrt, pi\n",
    "import scipy.ndimage.filters\n",
    "\n",
    "def Laguerre_Gauss_Circular_Harmonic_3_0(size, sigma):\n",
    "    x = numpy.linspace(-size/2.0, size/2.0, size)\n",
    "    y = numpy.linspace(-size/2.0, size/2.0, size)\n",
    "    xx, yy = numpy.meshgrid(x, y)\n",
    "    \n",
    "    r = numpy.sqrt(xx*xx + yy*yy)\n",
    "    gamma = numpy.arctan2(yy, xx)\n",
    "    l30 = - (1/6.0) * (1 / (sigma * sqrt(pi))) * numpy.exp( -r*r / (2*sigma*sigma)) * (sqrt(r*r/(sigma*sigma)) ** 3) * numpy.exp( -1j * 3 * gamma )\n",
    "    return l30\n",
    "\n",
    "def Laguerre_Gauss_Circular_Harmonic_1_0(size, sigma):\n",
    "    x = numpy.linspace(-size/2.0, size/2.0, size)\n",
    "    y = numpy.linspace(-size/2.0, size/2.0, size)\n",
    "    xx, yy = numpy.meshgrid(x, y)\n",
    "    \n",
    "    r = numpy.sqrt(xx*xx + yy*yy)\n",
    "    gamma = numpy.arctan2(yy, xx)\n",
    "    l10 = - (1 / (sigma * sqrt(pi))) * numpy.exp( -r*r / (2*sigma*sigma)) * sqrt(r*r/(sigma*sigma)) * numpy.exp( -1j * gamma )\n",
    "    return l10\n",
    "\n",
    "\"\"\"\n",
    "Polar edge coherence map\n",
    "Same size as source image\n",
    "\"\"\"\n",
    "def pec(img):\n",
    "    # TODO scale parameter should depend on resolution\n",
    "    l10 = Laguerre_Gauss_Circular_Harmonic_1_0(17, 2)\n",
    "    l30 = Laguerre_Gauss_Circular_Harmonic_3_0(17, 2)\n",
    "    y10 = scipy.ndimage.filters.convolve(img, numpy.real(l10)) + 1j * scipy.ndimage.filters.convolve(img, numpy.imag(l10))\n",
    "    y30 = scipy.ndimage.filters.convolve(img, numpy.real(l30)) + 1j * scipy.ndimage.filters.convolve(img, numpy.imag(l30))\n",
    "    pec_map = - (numpy.absolute(y30) / numpy.absolute(y10)) * numpy.cos( numpy.angle(y30) - 3 * numpy.angle(y10) )\n",
    "    return pec_map\n",
    "\n",
    "\"\"\"\n",
    "Edge coherence metric\n",
    "Just one number summarizing typical edge coherence in this image.\n",
    "\"\"\"\n",
    "def eco(img):\n",
    "    l10 = Laguerre_Gauss_Circular_Harmonic_1_0(17, 2)\n",
    "    l30 = Laguerre_Gauss_Circular_Harmonic_3_0(17, 2)\n",
    "    y10 = scipy.ndimage.filters.convolve(img, numpy.real(l10)) + 1j * scipy.ndimage.filters.convolve(img, numpy.imag(l10))\n",
    "    y30 = scipy.ndimage.filters.convolve(img, numpy.real(l30)) + 1j * scipy.ndimage.filters.convolve(img, numpy.imag(l30))\n",
    "    eco = numpy.sum( - (numpy.absolute(y30) * numpy.absolute(y10)) * numpy.cos( numpy.angle(y30) - 3 * numpy.angle(y10) ) )\n",
    "    return eco\n",
    "\n",
    "\"\"\"\n",
    "Relative edge coherence\n",
    "Ratio of ECO\n",
    "\"\"\"\n",
    "def reco(img1, img2):\n",
    "    C = 1 # TODO what is a good value?\n",
    "    return (eco(img2) + C) / (eco(img1) + C)"
   ]
  },
  {
   "cell_type": "code",
   "execution_count": null,
   "metadata": {},
   "outputs": [],
   "source": []
  },
  {
   "cell_type": "code",
   "execution_count": null,
   "metadata": {},
   "outputs": [],
   "source": []
  }
 ],
 "metadata": {
  "kernelspec": {
   "display_name": "Python 3",
   "language": "python",
   "name": "python3"
  },
  "language_info": {
   "codemirror_mode": {
    "name": "ipython",
    "version": 3
   },
   "file_extension": ".py",
   "mimetype": "text/x-python",
   "name": "python",
   "nbconvert_exporter": "python",
   "pygments_lexer": "ipython3",
   "version": "3.7.6"
  }
 },
 "nbformat": 4,
 "nbformat_minor": 4
}
